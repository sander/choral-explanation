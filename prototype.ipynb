{
 "cells": [
  {
   "cell_type": "markdown",
   "metadata": {},
   "source": [
    "# Choral Explanations on Alkemio\n",
    "\n",
    "At the [TIP knowledge base](https://alkem.io/tip/knowledge-base) on [Alkemio](https://welcome.alkem.io/) we apply [Choral Explanations](https://hapgood.us/2016/05/13/choral-explanations/) to develop knowledge commons in a Q&A format. In this project we explore new possibilities for navigation and visualisation.\n",
    "\n",
    "## Copyright and license\n",
    "\n",
    "### Code\n",
    "\n",
    "Copyright: sander.dijkhuis@cleverbase.com 2024; Licensed under the EUPL.\n",
    "\n",
    "### Example content\n",
    "\n",
    "See content source."
   ]
  },
  {
   "cell_type": "code",
   "execution_count": 126,
   "metadata": {},
   "outputs": [],
   "source": [
    "import json\n",
    "import os\n",
    "import re\n",
    "import shutil\n",
    "import urllib\n",
    "from datetime import datetime\n",
    "from urllib.request import Request\n",
    "from IPython.display import display, Markdown\n",
    "\n",
    "os.environ[\"no_proxy\"] = \"*\""
   ]
  },
  {
   "cell_type": "markdown",
   "metadata": {},
   "source": [
    "Use the [GraphQL Playground](https://alkem.io/graphql) to develop queries."
   ]
  },
  {
   "cell_type": "code",
   "execution_count": 158,
   "metadata": {},
   "outputs": [],
   "source": [
    "endpoint = \"https://alkem.io/api/private/graphql\"\n",
    "reader = open(\"queries.graphql\", \"r\")\n",
    "queries = reader.read()\n",
    "reader.close()"
   ]
  },
  {
   "cell_type": "code",
   "execution_count": 76,
   "metadata": {},
   "outputs": [],
   "source": [
    "def query(operation, variables):\n",
    "    payload = {\n",
    "        \"query\": queries,\n",
    "        \"operationName\": operation,\n",
    "        \"variables\": variables\n",
    "    }\n",
    "    headers = {\n",
    "        \"Content-Type\": \"application/json\"\n",
    "    }\n",
    "    body = json.dumps(payload).encode(\"utf-8\")\n",
    "    response = urllib.request.urlopen(Request(endpoint, body, headers))\n",
    "    return json.loads(response.read().decode(\"utf-8\"))"
   ]
  },
  {
   "cell_type": "code",
   "execution_count": 160,
   "metadata": {},
   "outputs": [],
   "source": [
    "result = query(\"questions\", { \"spaceNameId\": \"tip\" })"
   ]
  },
  {
   "cell_type": "code",
   "execution_count": 168,
   "metadata": {},
   "outputs": [],
   "source": [
    "questions = []\n",
    "\n",
    "def strip_license(markdown):\n",
    "    return re.sub(r\".*Bijdragen zijn gelicenseerd onder.*\\[.*CC BY 4\\.0.*\\]\\(https:\\/\\/creativecommons\\.org\\/licenses\\/by\\/4\\.0\\/deed\\.nl\\).*\\..*\", \"\", markdown.strip()).strip()\n",
    "\n",
    "for question_data in result[\"data\"][\"space\"][\"collaboration\"][\"callouts\"]:\n",
    "    question = {\n",
    "        \"id\": question_data[\"nameID\"],\n",
    "        \"title\": question_data[\"framing\"][\"profile\"][\"displayName\"],\n",
    "        \"url\": question_data[\"framing\"][\"profile\"][\"url\"],\n",
    "        \"description_md\": strip_license(question_data[\"framing\"][\"profile\"][\"description\"]),\n",
    "        \"answers\": []\n",
    "    }\n",
    "    by = question_data[\"createdBy\"]\n",
    "    if by != None:\n",
    "        question[\"author_name\"] = by[\"profile\"][\"displayName\"]\n",
    "        question[\"author_url\"] = by[\"profile\"][\"url\"]\n",
    "    questions.append(question)\n",
    "    for answer_data in question_data[\"contributions\"]:\n",
    "        answer = {\n",
    "            \"id\": answer_data[\"post\"][\"nameID\"],\n",
    "            \"title\": answer_data[\"post\"][\"profile\"][\"displayName\"],\n",
    "            \"url\": answer_data[\"post\"][\"profile\"][\"url\"],\n",
    "            \"author_name\": answer_data[\"post\"][\"createdBy\"][\"profile\"][\"displayName\"],\n",
    "            \"author_url\": answer_data[\"post\"][\"profile\"][\"url\"],\n",
    "            \"description_md\": answer_data[\"post\"][\"profile\"][\"description\"],\n",
    "            \"comments\": []\n",
    "        }\n",
    "        question[\"answers\"].append(answer)\n",
    "        for comment_data in answer_data[\"post\"][\"comments\"][\"messages\"]:\n",
    "            comment = {\n",
    "                \"author_name\": comment_data[\"sender\"][\"profile\"][\"displayName\"],\n",
    "                \"author_url\": comment_data[\"sender\"][\"profile\"][\"url\"],\n",
    "                \"date\": datetime.fromtimestamp(comment_data[\"timestamp\"] / 1000),\n",
    "                \"content_md\": comment_data[\"message\"]\n",
    "            }\n",
    "            answer[\"comments\"].append(comment)"
   ]
  },
  {
   "cell_type": "code",
   "execution_count": 118,
   "metadata": {},
   "outputs": [],
   "source": [
    "def link(label, url):\n",
    "    return f\"[🏔️ {label}]({url})\"\n",
    "\n",
    "def linked_title(contribution):\n",
    "    return link(contribution[\"title\"], contribution[\"url\"])\n",
    "\n",
    "def linked_author(contribution):\n",
    "    return link(contribution[\"author_name\"], contribution[\"author_url\"])\n",
    "\n",
    "def quote(markdown):\n",
    "    return \"\".join([f\">{line}\\n\" for line in markdown.splitlines()])\n",
    "\n",
    "def readable_date(contribution):\n",
    "    return contribution[\"date\"].strftime(\"%Y-%m-%d %H:%M UTC\")"
   ]
  },
  {
   "cell_type": "code",
   "execution_count": 171,
   "metadata": {},
   "outputs": [],
   "source": [
    "dir_path = \"example/tip\"\n",
    "shutil.rmtree(dir_path)\n",
    "os.makedirs(dir_path, exist_ok=True)\n",
    "\n",
    "for question in questions:\n",
    "    file_path = f\"{dir_path}/{question['id']}.md\"\n",
    "    with open(file_path, \"w\") as file:\n",
    "        file.write(\"[🏔️ Alkemio](https://welcome.alkem.io/) › [🏔️ TIP](https://alkem.io/tip/dashboard) › Kennisbank\\n\")\n",
    "        file.write(f\"# {linked_title(question)}\\n\")\n",
    "        if \"author_name\" in question:\n",
    "            file.write(f\"Oorspronkelijk gevraagd door {linked_author(question)}\\n\")\n",
    "        file.write(quote(question[\"description_md\"]))\n",
    "        if len(question[\"answers\"]) > 0:\n",
    "            file.write(\"## Antwoorden\\n\")\n",
    "        for answer in question[\"answers\"]:\n",
    "            file.write(quote(f\"### {linked_title(answer)}\\n\"))\n",
    "            file.write(quote(f\"Oorspronkelijk geantwoord door {linked_author(answer)}\\n\"))\n",
    "            file.write(quote(quote(answer[\"description_md\"])))\n",
    "            if len(answer[\"comments\"]) > 0:\n",
    "                file.write(quote(\"#### Reacties\\n\"))\n",
    "            for comment in answer[\"comments\"]:\n",
    "                file.write(quote(quote(f\"##### {linked_author(comment)} {readable_date(comment)}\\n\")))\n",
    "                file.write(quote(quote(quote(comment[\"content_md\"]))))\n",
    "        file.write(\"* * *\\n<small>Bijdragen zijn gelicenseerd onder [🌐 CC BY 4.0](https://creativecommons.org/licenses/by/4.0/deed.nl).</small>\")\n",
    "        file.write(\"\\n\")"
   ]
  }
 ],
 "metadata": {
  "kernelspec": {
   "display_name": "Python 3",
   "language": "python",
   "name": "python3"
  },
  "language_info": {
   "codemirror_mode": {
    "name": "ipython",
    "version": 3
   },
   "file_extension": ".py",
   "mimetype": "text/x-python",
   "name": "python",
   "nbconvert_exporter": "python",
   "pygments_lexer": "ipython3",
   "version": "3.11.4"
  }
 },
 "nbformat": 4,
 "nbformat_minor": 2
}
