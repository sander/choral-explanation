{
 "cells": [
  {
   "cell_type": "markdown",
   "metadata": {},
   "source": [
    "# Choral Explanations on Alkemio\n",
    "\n",
    "At the [TIP knowledge base](https://alkem.io/tip/knowledge-base) on [Alkemio](https://welcome.alkem.io/) we apply [Choral Explanations](https://hapgood.us/2016/05/13/choral-explanations/) to develop knowledge commons in a Q&A format. In this project we explore new possibilities for navigation and visualisation.\n",
    "\n",
    "## Copyright and license\n",
    "\n",
    "### Code\n",
    "\n",
    "Copyright: sander.dijkhuis@cleverbase.com 2024; Licensed under the EUPL.\n",
    "\n",
    "### Example content\n",
    "\n",
    "See content source."
   ]
  },
  {
   "cell_type": "code",
   "execution_count": 1,
   "metadata": {},
   "outputs": [],
   "source": [
    "import json\n",
    "import os\n",
    "import re\n",
    "import shutil\n",
    "import urllib\n",
    "from datetime import datetime\n",
    "from urllib.request import Request\n",
    "from IPython.display import display, Markdown\n",
    "\n",
    "os.environ[\"no_proxy\"] = \"*\""
   ]
  },
  {
   "cell_type": "markdown",
   "metadata": {},
   "source": [
    "Use the [GraphQL Playground](https://alkem.io/graphql) to develop queries."
   ]
  },
  {
   "cell_type": "code",
   "execution_count": 2,
   "metadata": {},
   "outputs": [],
   "source": [
    "endpoint = \"https://alkem.io/api/private/graphql\"\n",
    "reader = open(\"queries.graphql\", \"r\")\n",
    "queries = reader.read()\n",
    "reader.close()"
   ]
  },
  {
   "cell_type": "code",
   "execution_count": 3,
   "metadata": {},
   "outputs": [],
   "source": [
    "def query(operation, variables):\n",
    "    payload = {\n",
    "        \"query\": queries,\n",
    "        \"operationName\": operation,\n",
    "        \"variables\": variables\n",
    "    }\n",
    "    headers = {\n",
    "        \"Content-Type\": \"application/json\"\n",
    "    }\n",
    "    body = json.dumps(payload).encode(\"utf-8\")\n",
    "    response = urllib.request.urlopen(Request(endpoint, body, headers))\n",
    "    return json.loads(response.read().decode(\"utf-8\"))"
   ]
  },
  {
   "cell_type": "code",
   "execution_count": 4,
   "metadata": {},
   "outputs": [],
   "source": [
    "result = query(\"questions\", { \"spaceNameId\": \"tip\" })"
   ]
  },
  {
   "cell_type": "code",
   "execution_count": 108,
   "metadata": {},
   "outputs": [],
   "source": [
    "questions = []\n",
    "\n",
    "def strip_license(markdown):\n",
    "    return re.sub(r\".*Bijdragen zijn gelicenseerd onder.*\\[.*CC BY 4\\.0.*\\]\\(https:\\/\\/creativecommons\\.org\\/licenses\\/by\\/4\\.0\\/deed\\.nl\\).*\\..*\", \"\", markdown.strip()).strip()\n",
    "\n",
    "for question_data in result[\"data\"][\"space\"][\"collaboration\"][\"callouts\"]:\n",
    "    question = {\n",
    "        \"id\": question_data[\"nameID\"],\n",
    "        \"title\": question_data[\"framing\"][\"profile\"][\"displayName\"].strip(),\n",
    "        \"url\": question_data[\"framing\"][\"profile\"][\"url\"],\n",
    "        \"description_md\": strip_license(question_data[\"framing\"][\"profile\"][\"description\"]),\n",
    "        \"answers\": []\n",
    "    }\n",
    "    by = question_data[\"createdBy\"]\n",
    "    if by != None:\n",
    "        question[\"author_name\"] = by[\"profile\"][\"displayName\"]\n",
    "        question[\"author_url\"] = by[\"profile\"][\"url\"]\n",
    "    questions.append(question)\n",
    "    for answer_data in question_data[\"contributions\"]:\n",
    "        answer = {\n",
    "            \"id\": answer_data[\"post\"][\"nameID\"],\n",
    "            \"title\": answer_data[\"post\"][\"profile\"][\"displayName\"].strip(),\n",
    "            \"url\": answer_data[\"post\"][\"profile\"][\"url\"],\n",
    "            \"author_name\": answer_data[\"post\"][\"createdBy\"][\"profile\"][\"displayName\"],\n",
    "            \"author_url\": answer_data[\"post\"][\"profile\"][\"url\"],\n",
    "            \"description_md\": answer_data[\"post\"][\"profile\"][\"description\"],\n",
    "            \"comments\": []\n",
    "        }\n",
    "        question[\"answers\"].append(answer)\n",
    "        for comment_data in answer_data[\"post\"][\"comments\"][\"messages\"]:\n",
    "            comment = {\n",
    "                \"author_name\": comment_data[\"sender\"][\"profile\"][\"displayName\"],\n",
    "                \"author_url\": comment_data[\"sender\"][\"profile\"][\"url\"],\n",
    "                \"date\": datetime.fromtimestamp(comment_data[\"timestamp\"] / 1000),\n",
    "                \"content_md\": comment_data[\"message\"]\n",
    "            }\n",
    "            answer[\"comments\"].append(comment)"
   ]
  },
  {
   "cell_type": "code",
   "execution_count": 133,
   "metadata": {},
   "outputs": [],
   "source": [
    "def link(label, url):\n",
    "    return f\"[🏔️ {label}]({url})\"\n",
    "\n",
    "def linked_title(contribution):\n",
    "    return link(contribution[\"title\"], contribution[\"url\"])\n",
    "\n",
    "def linked_author(contribution):\n",
    "    return link(contribution[\"author_name\"], contribution[\"author_url\"])\n",
    "\n",
    "def quote(markdown):\n",
    "    return \"\".join([f\">{line}\\n\" for line in markdown.splitlines()])\n",
    "\n",
    "def readable_date(contribution):\n",
    "    return contribution[\"date\"].strftime(\"%Y-%m-%d %H:%M UTC\")\n",
    "\n",
    "def indent(markdown):\n",
    "    return \"\".join([f\"  {line}\\n\" for line in markdown.splitlines()])"
   ]
  },
  {
   "cell_type": "code",
   "execution_count": 232,
   "metadata": {},
   "outputs": [
    {
     "data": {
      "text/plain": [
       "'test [📄 Wat is de toegevoegde waarde van vertrouwensdiensten voor de digitale overheid?](watisdetoegevoegd-5977.md) test2 [📌 Kennisagenda](watisdekennisagen-9941.md#kennisagenda-5711)'"
      ]
     },
     "metadata": {},
     "output_type": "display_data"
    }
   ],
   "source": [
    "def replace_links(markdown, index):\n",
    "    def replacement(match):\n",
    "        label, url = match.groups()\n",
    "        match = CALLOUT_URL.match(url)\n",
    "        if match:\n",
    "            dict = match.groupdict()\n",
    "            question = dict['q1'] or dict['q2']\n",
    "            question_title = index[(question,)]['question']\n",
    "            answer = dict['a1']\n",
    "            if answer:\n",
    "                answer_title = index[(question, answer)]['answer']\n",
    "                return f\"[📌 {answer_title}]({question}.md#{answer})\"\n",
    "            else:\n",
    "                return f\"[📄 {question_title}]({question}.md)\"\n",
    "        else:\n",
    "            return f\"[🌐 {label}]({url})\"\n",
    "    return INLINE_LINK.sub(replacement, markdown)\n",
    "display(replace_links(\"test [a](https://alkem.io/tip/collaboration/watisdetoegevoegd-5977) test2 [b](https://alkem.io/tip/collaboration/watisdekennisagen-9941/posts/kennisagenda-5711)\", index))"
   ]
  },
  {
   "cell_type": "code",
   "execution_count": 252,
   "metadata": {},
   "outputs": [],
   "source": [
    "dir_path = \"example/tip\"\n",
    "shutil.rmtree(dir_path)\n",
    "os.makedirs(dir_path, exist_ok=True)\n",
    "\n",
    "for question in questions:\n",
    "    file_path = f\"{dir_path}/{question['id']}.md\"\n",
    "    with open(file_path, \"w\") as file:\n",
    "        file.write(\"[🏔️ Alkemio](https://welcome.alkem.io/) › [🏔️ TIP](https://alkem.io/tip/dashboard) › Kennisbank\\n\")\n",
    "        file.write(f\"# 📄 {question['title']}\\n\")\n",
    "        file.write(replace_links(question[\"description_md\"], index))\n",
    "        file.write(\"\\n\")\n",
    "        if \"author_name\" in question:\n",
    "            file.write(f\"> Oorspronkelijk gevraagd door {linked_author(question)}.\")\n",
    "        file.write(f\" [`🏔️ Origineel`]({question['url']})\\n\\n\")\n",
    "        if len(question[\"answers\"]) > 0:\n",
    "            file.write(\"## Antwoorden\\n\")\n",
    "        for answer in question[\"answers\"]:\n",
    "            file.write(f\"- ### <a id=\\\"{answer['id']}\\\"></a> 📌 {answer['title']}\\n\")\n",
    "            file.write(indent(replace_links(answer[\"description_md\"], index)))\n",
    "            file.write(f\"\\n  \\n  > Oorspronkelijk geantwoord door {linked_author(answer)}.\")\n",
    "            file.write(f\" [`🏔️ Origineel`]({answer['url']})\\n\\n\")\n",
    "            if len(answer[\"comments\"]) > 0:\n",
    "                file.write(indent(\"#### Reacties\\n\"))\n",
    "            for comment in answer[\"comments\"]:\n",
    "                file.write(indent(indent(f\"- ##### {linked_author(comment)} {readable_date(comment)}\\n      \")))\n",
    "                file.write(indent(indent(indent(replace_links(comment[\"content_md\"], index)))))\n",
    "        incoming = {}\n",
    "        for src, props in index.items():\n",
    "            if (question['id'],) in props['outgoing']:\n",
    "                incoming[src] = props\n",
    "        if len(incoming) > 0:\n",
    "            file.write(\"## Verwijzingen naar deze vraag\\n\")\n",
    "            for path, props in incoming.items():\n",
    "                url = f\"{path[0]}.md\"\n",
    "                if len(path) == 2:\n",
    "                    url += f\"#{path[1]}\"\n",
    "                label = props['question']\n",
    "                if 'answer' in props:\n",
    "                    label = f\"📌 {label} {props['answer']}\"\n",
    "                else:\n",
    "                    label = f\"📄 {label}\"\n",
    "                file.write(f\"- [{label}]({url})\\n\")\n",
    "        file.write(\"* * *\\n<small>Bijdragen zijn gelicenseerd onder [🌐 CC BY 4.0](https://creativecommons.org/licenses/by/4.0/deed.nl).</small>\")\n",
    "        file.write(\"\\n\")"
   ]
  },
  {
   "cell_type": "code",
   "execution_count": 101,
   "metadata": {},
   "outputs": [
    {
     "data": {
      "text/plain": [
       "{('juridischegrenzent-2374',): {'🏔️ Wat zijn de juridische grenzen tussen Corporate Seal en Personal Qualified signature?'},\n",
       " ('watiseidas-4062',): {'Wat is eIDAS?'},\n",
       " ('juridischegrenzent-2374',\n",
       "  'rechtsgevolgvolgens-1804'): {'🏔️ Rechtsgevolg volgens eIDAS'}}"
      ]
     },
     "metadata": {},
     "output_type": "display_data"
    }
   ],
   "source": [
    "INLINE_LINK = re.compile(r\"\\[([^\\]]+)\\]\\(([^)]+)\\)\")\n",
    "CALLOUT_URL = re.compile(r\"\"\"^https:\\/\\/alkem\\.io\\/tip\\/co(?:(?:llaboration\\/(?P<q1>[^/]+)(?:\\/posts\\/(?P<a1>[^/]+))?)|(?:ntribute\\/callouts\\/(?P<q2>[^/]+)))$\"\"\")\n",
    "markdown = \"  [IANAL](https://en.wikipedia.org/wiki/IANAL), maar dit is mijn huidige inzicht [🏔️ Wat zijn de juridische grenzen tussen Corporate Seal en Personal Qualified signature?](https://alkem.io/tip/collaboration/juridischegrenzent-2374). Om te beginnen, zie wat in eIDAS ([Wat is eIDAS?](https://alkem.io/tip/contribute/callouts/watiseidas-4062)) over rechtsgevolg staat [🏔️ Rechtsgevolg volgens eIDAS](https://alkem.io/tip/collaboration/juridischegrenzent-2374/posts/rechtsgevolgvolgens-1804) beschreven:\"\n",
    "def links(markdown):\n",
    "    '''returns a dict of connected nodes (q,a) to edge labels'''\n",
    "    links = {}\n",
    "    for label, url in INLINE_LINK.findall(markdown):\n",
    "        match = CALLOUT_URL.match(url)\n",
    "        if match:\n",
    "            dict = match.groupdict()\n",
    "            question = dict['q1'] or dict['q2']\n",
    "            answer = dict['a1']\n",
    "            if answer:\n",
    "                link = (question, answer)\n",
    "            else:\n",
    "                link = (question,)\n",
    "            if link in links:\n",
    "                links[link].append(label)\n",
    "            else:\n",
    "                links[link] = {label}\n",
    "    return links\n",
    "display(links(markdown))\n"
   ]
  },
  {
   "cell_type": "code",
   "execution_count": 162,
   "metadata": {},
   "outputs": [
    {
     "data": {
      "text/plain": [
       "[(('tiptoetsingskader-3432', 'categorieenintoets-6290'),\n",
       "  {'question': 'Hoe toets ik een vertrouwensraamwerk?',\n",
       "   'answer': 'categorieën in toetsing',\n",
       "   'outgoing': {}}),\n",
       " (('tiptoetsingskader-3432', 'voorbeeldenuiteu-i-7828'),\n",
       "  {'question': 'Hoe toets ik een vertrouwensraamwerk?',\n",
       "   'answer': 'Voorbeelden uit EU-initiatieven op interoperabiliteit',\n",
       "   'outgoing': {('hoetoetsikeenhan-831',): {'Hoe toets ik een handelingsomgeving tegen de afspraken van TIP?'}}}),\n",
       " (('hoetoetsikeenhan-831',),\n",
       "  {'question': 'Hoe toets ik een handelingsomgeving tegen de afspraken van TIP?',\n",
       "   'outgoing': {}}),\n",
       " (('hoetoetsikeenhan-831', 'beginmeteenprogra-2384'),\n",
       "  {'question': 'Hoe toets ik een handelingsomgeving tegen de afspraken van TIP?',\n",
       "   'answer': 'Begin met een Programma van Eisen',\n",
       "   'outgoing': {('hoekunnenweeffect-1138',): {'Hoe kunnen we effectief publiek-privaat samenwerken aan een afsprakenstelsel?'},\n",
       "    ('tiptoetsingskader-3432',): {'Hoe toets ik een vertrouwensraamwerk?'}}}),\n",
       " (('hoetoetsikeenhan-831', 'greenpaperenwhitep-3814'),\n",
       "  {'question': 'Hoe toets ik een handelingsomgeving tegen de afspraken van TIP?',\n",
       "   'answer': 'Greenpaper en Whitepaper als eerste iteraties',\n",
       "   'outgoing': {('watiseidas-4062',): {'Wat is eIDAS?'}}})]"
      ]
     },
     "metadata": {},
     "output_type": "display_data"
    }
   ],
   "source": [
    "def make_index(questions):\n",
    "    index = {}\n",
    "    for question in questions:\n",
    "        index[(question['id'],)] = {\n",
    "            'question': question['title'],\n",
    "            'outgoing': links(question['description_md'])\n",
    "        }\n",
    "        for answer in question['answers']:\n",
    "            index[(question['id'], answer['id'])] = {\n",
    "                'question': question['title'],\n",
    "                'answer': answer['title'],\n",
    "                'outgoing': links(answer['description_md'])\n",
    "            }\n",
    "    return index\n",
    "index = make_index(questions)\n",
    "display(list(index.items())[-20:-15])"
   ]
  }
 ],
 "metadata": {
  "kernelspec": {
   "display_name": "Python 3",
   "language": "python",
   "name": "python3"
  },
  "language_info": {
   "codemirror_mode": {
    "name": "ipython",
    "version": 3
   },
   "file_extension": ".py",
   "mimetype": "text/x-python",
   "name": "python",
   "nbconvert_exporter": "python",
   "pygments_lexer": "ipython3",
   "version": "3.11.7"
  }
 },
 "nbformat": 4,
 "nbformat_minor": 2
}
