{
 "cells": [
  {
   "cell_type": "markdown",
   "metadata": {},
   "source": [
    "# Choral Explanations on Alkemio\n",
    "\n",
    "At the [TIP knowledge base](https://alkem.io/tip/knowledge-base) on [Alkemio](https://welcome.alkem.io/) we apply [Choral Explanations](https://hapgood.us/2016/05/13/choral-explanations/) to develop knowledge commons in a Q&A format. In this project we explore new possibilities for navigation and visualisation.\n",
    "\n",
    "Copyright: sander.dijkhuis@cleverbase.com 2024; Licensed under the EUPL."
   ]
  },
  {
   "cell_type": "code",
   "execution_count": 1,
   "metadata": {},
   "outputs": [],
   "source": [
    "import json\n",
    "import os\n",
    "import urllib\n",
    "from urllib.request import Request\n",
    "\n",
    "os.environ[\"no_proxy\"] = \"*\""
   ]
  },
  {
   "cell_type": "markdown",
   "metadata": {},
   "source": [
    "Use the [GraphQL Playground](https://alkem.io/graphql) to develop queries."
   ]
  },
  {
   "cell_type": "code",
   "execution_count": null,
   "metadata": {},
   "outputs": [],
   "source": [
    "endpoint = \"https://alkem.io/api/private/graphql\"\n",
    "reader = open(\"queries.graphql\", \"r\")\n",
    "queries = reader.read()\n",
    "reader.close()"
   ]
  },
  {
   "cell_type": "code",
   "execution_count": 2,
   "metadata": {},
   "outputs": [],
   "source": [
    "def query(operation, variables):\n",
    "    payload = {\n",
    "        \"query\": queries,\n",
    "        \"operationName\": operation,\n",
    "        \"variables\": variables\n",
    "    }\n",
    "    headers = {\n",
    "        \"Content-Type\": \"application/json\"\n",
    "    }\n",
    "    body = json.dumps(payload).encode(\"utf-8\")\n",
    "    response = urllib.request.urlopen(Request(endpoint, body, headers))\n",
    "    return json.loads(response.read().decode(\"utf-8\"))"
   ]
  },
  {
   "cell_type": "code",
   "execution_count": 3,
   "metadata": {},
   "outputs": [
    {
     "data": {
      "text/plain": [
       "{'data': {'space': {'collaboration': {'callouts': [{'nameID': 'welkerandvoorwaarde-6229',\n",
       "      'type': 'POST_COLLECTION',\n",
       "      'framing': {'profile': {'displayName': 'Welke randvoorwaarden zijn nodig zodat Nederlanse relying parties  id-wallets kunnen accepteren?'}}},\n",
       "     {'nameID': 'kaneenbankscadel-5381',\n",
       "      'type': 'POST_COLLECTION',\n",
       "      'framing': {'profile': {'displayName': 'Kan een bank SCA delegeren aan een QTSP?'}}}]}}}}"
      ]
     },
     "execution_count": 3,
     "metadata": {},
     "output_type": "execute_result"
    }
   ],
   "source": [
    "query(\"questions\", { \"spaceNameId\": \"tip\" })"
   ]
  }
 ],
 "metadata": {
  "kernelspec": {
   "display_name": "Python 3",
   "language": "python",
   "name": "python3"
  },
  "language_info": {
   "codemirror_mode": {
    "name": "ipython",
    "version": 3
   },
   "file_extension": ".py",
   "mimetype": "text/x-python",
   "name": "python",
   "nbconvert_exporter": "python",
   "pygments_lexer": "ipython3",
   "version": "3.11.4"
  }
 },
 "nbformat": 4,
 "nbformat_minor": 2
}
