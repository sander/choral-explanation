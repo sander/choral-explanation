{
 "cells": [
  {
   "cell_type": "markdown",
   "metadata": {},
   "source": [
    "# Prototype notebook"
   ]
  },
  {
   "cell_type": "markdown",
   "metadata": {},
   "source": [
    "## Fetching and indexing"
   ]
  },
  {
   "cell_type": "code",
   "execution_count": 30,
   "metadata": {},
   "outputs": [
    {
     "data": {
      "text/plain": [
       "<module 'choral_explanation' from '/Users/sander/Code/choral-explanation/choral_explanation/__init__.py'>"
      ]
     },
     "execution_count": 30,
     "metadata": {},
     "output_type": "execute_result"
    }
   ],
   "source": [
    "import choral_explanation\n",
    "from importlib import reload\n",
    "reload(choral_explanation)"
   ]
  },
  {
   "cell_type": "code",
   "execution_count": 18,
   "metadata": {},
   "outputs": [
    {
     "data": {
      "text/plain": [
       "\"{'nameID': 'toelichting-2833', 'type': 'POST', 'createdBy': {'profile': {'url': \""
      ]
     },
     "metadata": {},
     "output_type": "display_data"
    }
   ],
   "source": [
    "question_list_data = choral_explanation.fetch_question_list_data('tip')\n",
    "display(str(question_list_data[0])[:80])"
   ]
  },
  {
   "cell_type": "code",
   "execution_count": 19,
   "metadata": {},
   "outputs": [
    {
     "data": {
      "text/plain": [
       "\"{'id': 'toelichting-2833', 'title': 'Toelichting', 'url': 'https://alkem.io/tip/\""
      ]
     },
     "metadata": {},
     "output_type": "display_data"
    }
   ],
   "source": [
    "questions = [choral_explanation.question(data) for data in question_list_data]\n",
    "display(str(questions[0])[:80])"
   ]
  },
  {
   "cell_type": "code",
   "execution_count": null,
   "metadata": {},
   "outputs": [],
   "source": [
    "authors = {author\n",
    "           for question in questions\n",
    "           for author in choral_explanation.authors(question)}"
   ]
  },
  {
   "cell_type": "code",
   "execution_count": 7,
   "metadata": {},
   "outputs": [
    {
     "data": {
      "text/plain": [
       "211"
      ]
     },
     "execution_count": 7,
     "metadata": {},
     "output_type": "execute_result"
    }
   ],
   "source": [
    "index = dict(choral_explanation.index_all(questions))\n",
    "len(index)"
   ]
  },
  {
   "cell_type": "code",
   "execution_count": 8,
   "metadata": {},
   "outputs": [
    {
     "data": {
      "text/plain": [
       "{'id': 'toelichting-2833',\n",
       " 'title': 'Toelichting',\n",
       " 'url': 'https://alkem.io/tip/collaboration/toelichting-2833',\n",
       " 'description_md': 'Momenteel gebruiken wij Alkemio alleen voor de [Kennisbank](https://alkem.io/tip/knowledge-base). Neem contact op met [Sander Dijkhuis](https://alkem.io/user/sander-dijkhuis-3912) voor vragen.',\n",
       " 'answers': [],\n",
       " 'author_name': 'Sander Dijkhuis',\n",
       " 'author_url': 'https://alkem.io/user/sander-dijkhuis-3912'}"
      ]
     },
     "execution_count": 8,
     "metadata": {},
     "output_type": "execute_result"
    }
   ],
   "source": [
    "questions[0]"
   ]
  },
  {
   "cell_type": "code",
   "execution_count": 22,
   "metadata": {},
   "outputs": [
    {
     "data": {
      "text/plain": [
       "{'memberUsers': None}"
      ]
     },
     "metadata": {},
     "output_type": "display_data"
    }
   ],
   "source": [
    "space_data = choral_explanation.fetch_space_data('tip')\n",
    "display(space_data['community'])"
   ]
  },
  {
   "cell_type": "markdown",
   "metadata": {},
   "source": [
    "## Writing to Git working directory"
   ]
  },
  {
   "cell_type": "code",
   "execution_count": 47,
   "metadata": {},
   "outputs": [],
   "source": [
    "import os\n",
    "import shutil\n",
    "\n",
    "DIR_PATH = \"example/tip\"\n",
    "shutil.rmtree(DIR_PATH)\n",
    "os.makedirs(DIR_PATH, exist_ok=True)\n"
   ]
  },
  {
   "cell_type": "code",
   "execution_count": 73,
   "metadata": {},
   "outputs": [],
   "source": [
    "for question in questions:\n",
    "    choral_explanation.write_github_flavored_md(question, DIR_PATH, index)"
   ]
  },
  {
   "cell_type": "markdown",
   "metadata": {},
   "source": [
    "## Writing to Obsidian directory"
   ]
  },
  {
   "cell_type": "code",
   "execution_count": 67,
   "metadata": {},
   "outputs": [],
   "source": [
    "import os\n",
    "import shutil\n",
    "\n",
    "DIR_PATH = \"/Users/sander/Obsidian/Notes/Replica/TIP Kennisbank\"\n",
    "shutil.rmtree(DIR_PATH, ignore_errors=True)\n",
    "os.makedirs(f\"{DIR_PATH}/Participants\", exist_ok=True)\n",
    "\n",
    "import choral_explanation\n",
    "from importlib import reload\n",
    "reload(choral_explanation)\n",
    "\n",
    "SKIP = {\n",
    "    'overzichtvanreleva-7668',\n",
    "    'implementatiekennis-617',\n",
    "    'overzichtvanreleva-3471',\n",
    "    'toelichting-2833',\n",
    "}\n",
    "for question in questions:\n",
    "    if question['id'] not in SKIP:\n",
    "        choral_explanation.write_obsidian_md(question, DIR_PATH, index, authors)\n",
    "for author_name, author_url in authors:\n",
    "    choral_explanation.write_author_obsidian_md(author_name, author_url, DIR_PATH)\n",
    "choral_explanation.write_author_index_obsidian_md(\n",
    "    choral_explanation.stats(questions),\n",
    "    sorted([name for name, url in authors], key=str.lower),\n",
    "    DIR_PATH\n",
    ")"
   ]
  },
  {
   "cell_type": "code",
   "execution_count": 64,
   "metadata": {},
   "outputs": [
    {
     "data": {
      "text/plain": [
       "{'questions': 111, 'answers': 100, 'authors': 13}"
      ]
     },
     "metadata": {},
     "output_type": "display_data"
    }
   ],
   "source": [
    "display(choral_explanation.stats(questions))"
   ]
  }
 ],
 "metadata": {
  "kernelspec": {
   "display_name": "Python 3",
   "language": "python",
   "name": "python3"
  },
  "language_info": {
   "codemirror_mode": {
    "name": "ipython",
    "version": 3
   },
   "file_extension": ".py",
   "mimetype": "text/x-python",
   "name": "python",
   "nbconvert_exporter": "python",
   "pygments_lexer": "ipython3",
   "version": "3.12.1"
  }
 },
 "nbformat": 4,
 "nbformat_minor": 2
}
